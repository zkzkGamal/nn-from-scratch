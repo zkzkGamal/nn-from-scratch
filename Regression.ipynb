{
 "cells": [
  {
   "cell_type": "code",
   "execution_count": 1,
   "id": "87394cfe",
   "metadata": {},
   "outputs": [],
   "source": [
    "import matplotlib.pyplot as plt\n",
    "import numpy as np\n",
    "import nnfs\n",
    "from nnfs.datasets import sine_data"
   ]
  },
  {
   "cell_type": "code",
   "execution_count": 2,
   "id": "3dce6e23",
   "metadata": {},
   "outputs": [],
   "source": [
    "nnfs.init()\n"
   ]
  },
  {
   "cell_type": "code",
   "execution_count": 4,
   "id": "5183bc49",
   "metadata": {},
   "outputs": [
    {
     "data": {
      "image/png": "[encoded data removed]",
      "text/plain": [
       "<Figure size 640x480 with 1 Axes>"
      ]
     },
     "metadata": {},
     "output_type": "display_data"
    }
   ],
   "source": [
    "# Generate sine wave data\n",
    "X, y = sine_data()\n",
    "# Reshape y to be a 2D array with one column\n",
    "y = y.reshape(-1, 1)\n",
    "# Plot the sine wave data\n",
    "plt.scatter(X, y, s=1)\n",
    "plt.title('Sine Wave Data')\n",
    "plt.xlabel('X')\n",
    "plt.ylabel('y')\n",
    "plt.show()"
   ]
  },
  {
   "cell_type": "markdown",
   "id": "2ba94c21",
   "metadata": {},
   "source": [
    "### linear Activation function"
   ]
  },
  {
   "cell_type": "code",
   "execution_count": 5,
   "id": "d5d14481",
   "metadata": {},
   "outputs": [],
   "source": [
    "class Activation_linear:\n",
    "    def forward(self, inputs):\n",
    "        self.inputs = inputs\n",
    "        self.output = inputs  # Linear activation is just the identity function\n",
    "        return self.inputs\n",
    "\n",
    "    def backward(self, dvalues):\n",
    "        self.dinputs = dvalues.copy()\n",
    "        return self.dinputs"
   ]
  },
  {
   "cell_type": "markdown",
   "id": "4bb9975e",
   "metadata": {},
   "source": [
    "### Mean Squared Error Loss\n",
    "\n",
    "The two main methods for calculating error in regression\n",
    "are ​mean squared error​ (MSE) and ​mean absolute error​ (MAE).\n",
    "\n",
    "quare the difference between the predicted and true values of\n",
    "single outputs\n",
    "\n",
    "<img src='./MSE.png' size=\"10px\">"
   ]
  },
  {
   "cell_type": "markdown",
   "id": "35414941",
   "metadata": {},
   "source": [
    "### Mean Squared Error Loss Derivative\n",
    "The partial derivative of squared error with respect to the predicted value is:\n",
    "<br>\n",
    "<img src='./MSE-derivative-1.png' width=\"300\">\n",
    "<br>\n",
    "1​ divided by ​J​ (the number of outputs) is a constant and can be moved outside of the derivative.\n",
    "Since we are calculating the derivative with respect to the given output, ​j,​ the sum of one element\n",
    "equals this element:\n",
    "<br>\n",
    "<img src='./MSE-derivative-2.png' width=\"300\">\n",
    "<br>\n",
    "To calculate the partial derivative of an expression to the power of some value, we need to\n",
    "multiply this exponent by the expression, subtract 1 from the exponent, and multiply this by the\n",
    "partial derivative of the inner function:\n",
    "<br>\n",
    "<img src='./MSE-derivative-3.png' width=\"300\">\n",
    "<br>\n",
    "The partial derivative of the subtraction equals the subtraction of the partial derivatives:\n",
    "<br>\n",
    "<img src='./MSE-derivative-4.png' width=\"300\">\n",
    "<br>"
   ]
  },
  {
   "cell_type": "code",
   "execution_count": null,
   "id": "51cca277",
   "metadata": {},
   "outputs": [],
   "source": [
    "class Loss:\n",
    "    def calculate(self , output , y):\n",
    "        sample_loss = self.forward(output, y)\n",
    "        return np.mean(sample_loss, axis=-1)"
   ]
  },
  {
   "cell_type": "code",
   "execution_count": null,
   "id": "53719b76",
   "metadata": {},
   "outputs": [],
   "source": [
    "class Loss_MeanSquaredError(Loss):\n",
    "    def forward(self, y_true, y_pred):\n",
    "        self.y_true = y_true\n",
    "        self.y_pred = y_pred\n",
    "        return np.mean(np.square(y_true - y_pred))\n",
    "\n",
    "    def backward(self, dvalues):\n",
    "        samples = dvalues.shape[0]\n",
    "        self.dinputs = 2 * (dvalues - self.y_true) / samples\n",
    "        return self.dinputs"
   ]
  },
  {
   "cell_type": "markdown",
   "id": "69242e23",
   "metadata": {},
   "source": [
    "### Mean Absolute Error"
   ]
  },
  {
   "cell_type": "code",
   "execution_count": null,
   "id": "993be9c3",
   "metadata": {},
   "outputs": [],
   "source": [
    "class Osss_MeanAbsoluteError(Loss):\n",
    "    def forward(self, y_true, y_pred):\n",
    "        self.y_true = y_true\n",
    "        self.y_pred = y_pred\n",
    "        return np.mean(np.abs(y_true - y_pred))\n",
    "\n",
    "    def backward(self, dvalues):\n",
    "        samples = dvalues.shape[0]\n",
    "        self.dinputs = np.sign(dvalues - self.y_true) / samples\n",
    "        return self.dinputs"
   ]
  },
  {
   "cell_type": "code",
   "execution_count": 6,
   "id": "31cf7330",
   "metadata": {},
   "outputs": [],
   "source": [
    "accuracy_precision = np.std(y) / 250"
   ]
  },
  {
   "cell_type": "code",
   "execution_count": null,
   "id": "6ad566b1",
   "metadata": {},
   "outputs": [],
   "source": []
  }
 ],
 "metadata": {
  "kernelspec": {
   "display_name": "Python 3",
   "language": "python",
   "name": "python3"
  },
  "language_info": {
   "codemirror_mode": {
    "name": "ipython",
    "version": 3
   },
   "file_extension": ".py",
   "mimetype": "text/x-python",
   "name": "python",
   "nbconvert_exporter": "python",
   "pygments_lexer": "ipython3",
   "version": "3.10.12"
  }
 },
 "nbformat": 4,
 "nbformat_minor": 5
}
